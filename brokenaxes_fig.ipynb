{
 "cells": [
  {
   "cell_type": "code",
   "execution_count": 2,
   "metadata": {},
   "outputs": [],
   "source": [
    "#20210509\n",
    "import pandas as pd\n",
    "import numpy as np\n",
    "import matplotlib.pyplot as plt\n",
    "from brokenaxes import brokenaxes"
   ]
  },
  {
   "cell_type": "code",
   "execution_count": 8,
   "metadata": {
    "collapsed": true
   },
   "outputs": [
    {
     "data": {
      "text/html": [
       "<div>\n",
       "<style scoped>\n",
       "    .dataframe tbody tr th:only-of-type {\n",
       "        vertical-align: middle;\n",
       "    }\n",
       "\n",
       "    .dataframe tbody tr th {\n",
       "        vertical-align: top;\n",
       "    }\n",
       "\n",
       "    .dataframe thead th {\n",
       "        text-align: right;\n",
       "    }\n",
       "</style>\n",
       "<table border=\"1\" class=\"dataframe\">\n",
       "  <thead>\n",
       "    <tr style=\"text-align: right;\">\n",
       "      <th></th>\n",
       "      <th>年份</th>\n",
       "      <th>SO2年平均浓度（单位？）</th>\n",
       "      <th>NOx年平均浓度（单位？）</th>\n",
       "      <th>CH4排放，千吨二氧化碳当量</th>\n",
       "      <th>碳排放量MtC</th>\n",
       "      <th>人口（单位？）</th>\n",
       "      <th>人均碳排放量</th>\n",
       "      <th>人均GDP，当年价格，千图格里克</th>\n",
       "      <th>通胀率，%</th>\n",
       "      <th>人均GDP，1990不变价，千图格里克</th>\n",
       "      <th>城镇人口比率，%</th>\n",
       "      <th>贸易占GDP比重</th>\n",
       "      <th>主要工业部门生产占GDP比重，%</th>\n",
       "      <th>专业、科技活动生产占GDP比重，%</th>\n",
       "    </tr>\n",
       "  </thead>\n",
       "  <tbody>\n",
       "    <tr>\n",
       "      <td>0</td>\n",
       "      <td>1990</td>\n",
       "      <td>NaN</td>\n",
       "      <td>NaN</td>\n",
       "      <td>6872.62</td>\n",
       "      <td>2.699232</td>\n",
       "      <td>2153466.0</td>\n",
       "      <td>1.253436</td>\n",
       "      <td>6.1</td>\n",
       "      <td>NaN</td>\n",
       "      <td>6.1</td>\n",
       "      <td>0.569562</td>\n",
       "      <td>0.123767</td>\n",
       "      <td>0.489871</td>\n",
       "      <td>0.000861</td>\n",
       "    </tr>\n",
       "    <tr>\n",
       "      <td>1</td>\n",
       "      <td>1991</td>\n",
       "      <td>NaN</td>\n",
       "      <td>NaN</td>\n",
       "      <td>6714.72</td>\n",
       "      <td>3.308127</td>\n",
       "      <td>2177217.0</td>\n",
       "      <td>1.519429</td>\n",
       "      <td>10.4</td>\n",
       "      <td>52.7</td>\n",
       "      <td>NaN</td>\n",
       "      <td>0.569985</td>\n",
       "      <td>0.031366</td>\n",
       "      <td>0.386845</td>\n",
       "      <td>0.001343</td>\n",
       "    </tr>\n",
       "    <tr>\n",
       "      <td>2</td>\n",
       "      <td>1992</td>\n",
       "      <td>NaN</td>\n",
       "      <td>NaN</td>\n",
       "      <td>6619.13</td>\n",
       "      <td>3.000515</td>\n",
       "      <td>2158362.0</td>\n",
       "      <td>1.390182</td>\n",
       "      <td>25.9</td>\n",
       "      <td>325.5</td>\n",
       "      <td>NaN</td>\n",
       "      <td>0.564895</td>\n",
       "      <td>0.014372</td>\n",
       "      <td>0.381447</td>\n",
       "      <td>0.001143</td>\n",
       "    </tr>\n",
       "    <tr>\n",
       "      <td>3</td>\n",
       "      <td>1993</td>\n",
       "      <td>NaN</td>\n",
       "      <td>NaN</td>\n",
       "      <td>6406.32</td>\n",
       "      <td>2.528009</td>\n",
       "      <td>2171898.0</td>\n",
       "      <td>1.163963</td>\n",
       "      <td>105.2</td>\n",
       "      <td>183.0</td>\n",
       "      <td>NaN</td>\n",
       "      <td>0.564918</td>\n",
       "      <td>0.003345</td>\n",
       "      <td>0.347677</td>\n",
       "      <td>0.000778</td>\n",
       "    </tr>\n",
       "    <tr>\n",
       "      <td>4</td>\n",
       "      <td>1994</td>\n",
       "      <td>NaN</td>\n",
       "      <td>NaN</td>\n",
       "      <td>6877.48</td>\n",
       "      <td>2.163499</td>\n",
       "      <td>2206892.0</td>\n",
       "      <td>0.980337</td>\n",
       "      <td>174.5</td>\n",
       "      <td>66.3</td>\n",
       "      <td>NaN</td>\n",
       "      <td>0.546291</td>\n",
       "      <td>0.001608</td>\n",
       "      <td>0.374669</td>\n",
       "      <td>0.000877</td>\n",
       "    </tr>\n",
       "  </tbody>\n",
       "</table>\n",
       "</div>"
      ],
      "text/plain": [
       "     年份  SO2年平均浓度（单位？）  NOx年平均浓度（单位？）  CH4排放，千吨二氧化碳当量   碳排放量MtC    人口（单位？）  \\\n",
       "0  1990            NaN            NaN         6872.62  2.699232  2153466.0   \n",
       "1  1991            NaN            NaN         6714.72  3.308127  2177217.0   \n",
       "2  1992            NaN            NaN         6619.13  3.000515  2158362.0   \n",
       "3  1993            NaN            NaN         6406.32  2.528009  2171898.0   \n",
       "4  1994            NaN            NaN         6877.48  2.163499  2206892.0   \n",
       "\n",
       "     人均碳排放量  人均GDP，当年价格，千图格里克  通胀率，%  人均GDP，1990不变价，千图格里克  城镇人口比率，%  贸易占GDP比重  \\\n",
       "0  1.253436               6.1    NaN                  6.1  0.569562  0.123767   \n",
       "1  1.519429              10.4   52.7                  NaN  0.569985  0.031366   \n",
       "2  1.390182              25.9  325.5                  NaN  0.564895  0.014372   \n",
       "3  1.163963             105.2  183.0                  NaN  0.564918  0.003345   \n",
       "4  0.980337             174.5   66.3                  NaN  0.546291  0.001608   \n",
       "\n",
       "   主要工业部门生产占GDP比重，%  专业、科技活动生产占GDP比重，%  \n",
       "0          0.489871           0.000861  \n",
       "1          0.386845           0.001343  \n",
       "2          0.381447           0.001143  \n",
       "3          0.347677           0.000778  \n",
       "4          0.374669           0.000877  "
      ]
     },
     "execution_count": 8,
     "metadata": {},
     "output_type": "execute_result"
    }
   ],
   "source": [
    "data = pd.read_excel('E:\\\\muadata\\蒙古国.xlsx')\n",
    "data.head()"
   ]
  },
  {
   "cell_type": "code",
   "execution_count": 24,
   "metadata": {
    "collapsed": true
   },
   "outputs": [
    {
     "data": {
      "image/png": "[encoded data removed]",
      "text/plain": [
       "<Figure size 432x288 with 3 Axes>"
      ]
     },
     "metadata": {
      "needs_background": "light"
     },
     "output_type": "display_data"
    }
   ],
   "source": [
    "fig = plt.figure()\n",
    "bax = brokenaxes(xlims=((0, 3), (4, 8.7)))\n",
    "bax.barh(range(len(data['人均碳排放量'])), data['人均碳排放量'], color='r')\n",
    "bax.barh(range(len(data['贸易占GDP比重'])), data['贸易占GDP比重'], left=data['人均碳排放量'], color='b')\n",
    "\n",
    "#plt.xticks(range(len(data['人均碳排放量'])), data['人均碳排放量'], rotation=25, size=8)\n",
    "#ax1.yticks([])\n",
    "\n",
    "bax.axs[0].set_yticks([])\n",
    "bax.axs[0].set_xticks([])\n",
    "bax.axs[1].set_xticks([])\n",
    "plt.yticks(range(len(data['年份'])-4), data['年份'][0:-3], rotation=25, size=8)\n",
    "plt.xticks(range(len(data['人均碳排放量'])), data['人均碳排放量'], rotation=25, size=8)\n",
    "plt.tight_layout()\n",
    "plt.show()"
   ]
  },
  {
   "cell_type": "code",
   "execution_count": 14,
   "metadata": {},
   "outputs": [],
   "source": [
    "bax?"
   ]
  },
  {
   "cell_type": "code",
   "execution_count": null,
   "metadata": {},
   "outputs": [],
   "source": []
  }
 ],
 "metadata": {
  "kernelspec": {
   "display_name": "Python 3",
   "language": "python",
   "name": "python3"
  },
  "language_info": {
   "codemirror_mode": {
    "name": "ipython",
    "version": 3
   },
   "file_extension": ".py",
   "mimetype": "text/x-python",
   "name": "python",
   "nbconvert_exporter": "python",
   "pygments_lexer": "ipython3",
   "version": "3.7.4"
  }
 },
 "nbformat": 4,
 "nbformat_minor": 2
}
